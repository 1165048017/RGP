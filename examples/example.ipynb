{
 "cells": [
  {
   "cell_type": "code",
   "execution_count": 10,
   "metadata": {
    "collapsed": true
   },
   "outputs": [],
   "source": [
    "import autoreg\n",
    "import GPy\n",
    "import numpy as np\n",
    "import scipy.io\n",
    "from pylab import *\n",
    "%matplotlib inline"
   ]
  },
  {
   "cell_type": "code",
   "execution_count": 11,
   "metadata": {
    "collapsed": true
   },
   "outputs": [],
   "source": [
    "def comp_RMSE(a,b):\n",
    "    return np.sqrt(np.square(a-b).mean())"
   ]
  },
  {
   "cell_type": "code",
   "execution_count": 12,
   "metadata": {
    "collapsed": false
   },
   "outputs": [],
   "source": [
    "data = scipy.io.loadmat('./identificationExample.mat')\n",
    "data_in = data['u'][:,None]\n",
    "data_out = data['y'][:,None]\n",
    "win_in = int(data['lu'])\n",
    "win_out = int(data['ly'])\n",
    "data_in_train = data_in[:150]\n",
    "data_out_train = data_out[:150]\n",
    "data_in_test = data_in[150:]\n",
    "data_out_test = data_out[150:]"
   ]
  },
  {
   "cell_type": "code",
   "execution_count": 13,
   "metadata": {
    "collapsed": false
   },
   "outputs": [
    {
     "data": {
      "text/plain": [
       "array([0])"
      ]
     },
     "execution_count": 13,
     "metadata": {},
     "output_type": "execute_result"
    }
   ],
   "source": [
    "# One hidden layer\n",
    "m = autoreg.DeepAutoreg([0,win_out],data_out_train, U=data_in_train, U_win=win_in,X_variance=0.01,\n",
    "                        num_inducing=50)\n",
    "m.layer_0.likelihood.variance[:] = data_out_train.var()*0.01\n",
    "m.layer_1.likelihood.variance[:] = 0.01\n",
    "m.layer_0.likelihood.fix(warning=False)\n",
    "m.layer_1.likelihood.fix(warning=False)"
   ]
  },
  {
   "cell_type": "code",
   "execution_count": 14,
   "metadata": {
    "collapsed": false
   },
   "outputs": [
    {
     "name": "stdout",
     "output_type": "stream",
     "text": [
      "\n",
      "Name                              : autoreg\n",
      "Log-likelihood                    : -2161.86369133\n",
      "Number of Parameters              : 457\n",
      "Number of Optimization Parameters : 455\n",
      "Updates                           : True\n",
      "Parameters:\n",
      "  autoreg.                         |        Value        |  Constraint  |  Prior  |  Tied to\n",
      "  \u001b[1mlayer_1.inducing inputs        \u001b[0;0m  |            (50, 2)  |              |         |         \n",
      "  \u001b[1mlayer_1.rbf.variance           \u001b[0;0m  |                1.0  |     +ve      |         |         \n",
      "  \u001b[1mlayer_1.rbf.lengthscale        \u001b[0;0m  |               (2,)  |     +ve      |         |         \n",
      "  \u001b[1mlayer_1.Gaussian_noise.variance\u001b[0;0m  |               0.01  |    fixed     |         |         \n",
      "  \u001b[1mlayer_1.latent space.mean      \u001b[0;0m  |           (150, 1)  |              |         |         \n",
      "  \u001b[1mlayer_1.latent space.variance  \u001b[0;0m  |           (150, 1)  |     +ve      |         |         \n",
      "  \u001b[1mlayer_0.inducing inputs        \u001b[0;0m  |            (50, 1)  |              |         |         \n",
      "  \u001b[1mlayer_0.rbf.variance           \u001b[0;0m  |                1.0  |     +ve      |         |         \n",
      "  \u001b[1mlayer_0.rbf.lengthscale        \u001b[0;0m  |                1.0  |     +ve      |         |         \n",
      "  \u001b[1mlayer_0.Gaussian_noise.variance\u001b[0;0m  |  0.000809096620629  |    fixed     |         |         \n"
     ]
    }
   ],
   "source": [
    "print m"
   ]
  },
  {
   "cell_type": "code",
   "execution_count": 15,
   "metadata": {
    "collapsed": false
   },
   "outputs": [],
   "source": [
    "m.optimize(messages=1,max_iters=50)\n",
    "m.layer_0.likelihood.constrain_positive(warning=False)\n",
    "m.layer_1.likelihood.constrain_positive(warning=False)\n",
    "m.optimize(messages=1,max_iters=1000)"
   ]
  },
  {
   "cell_type": "code",
   "execution_count": 16,
   "metadata": {
    "collapsed": false
   },
   "outputs": [
    {
     "data": {
      "text/html": [
       "<style type=\"text/css\">\n",
       ".tg  {padding:2px 3px;word-break:normal;border-collapse:collapse;border-spacing:0;border-color:#DCDCDC;margin:0px auto;width:100%;}\n",
       ".tg td{font-family:\"Courier New\", Courier, monospace !important;font-weight:bold;color:#444;background-color:#F7FDFA;border-style:solid;border-width:1px;overflow:hidden;word-break:normal;border-color:#DCDCDC;}\n",
       ".tg th{font-family:\"Courier New\", Courier, monospace !important;font-weight:normal;color:#fff;background-color:#26ADE4;border-style:solid;border-width:1px;overflow:hidden;word-break:normal;border-color:#DCDCDC;}\n",
       ".tg .tg-left{font-family:\"Courier New\", Courier, monospace !important;font-weight:normal;text-align:left;}\n",
       ".tg .tg-right{font-family:\"Courier New\", Courier, monospace !important;font-weight:normal;text-align:right;}\n",
       "</style>\n",
       "<table class=\"tg\">\n",
       "\n",
       "<tr>\n",
       "  <th><b>Index</b></th>\n",
       "  <th><b>autoreg.layer_1.rbf.lengthscale</b></th>\n",
       "  <th><b>Constraint</b></th>\n",
       "  <th><b>Prior</b></th>\n",
       "  <th><b>Tied to</b></th>\n",
       "</tr>\n",
       "<tr><td class=tg-left>[0]</td><td  class=tg-right>18.0053735574</td><td class=tg-left>+ve</td><td class=tg-left></td><td class=tg-left>N/A</td></tr>\n",
       "<tr><td class=tg-left>[1]</td><td  class=tg-right>1.9266584764</td><td class=tg-left>+ve</td><td class=tg-left></td><td class=tg-left>N/A</td></tr>\n",
       "</table>"
      ],
      "text/plain": [
       "\u001b[1mautoreg.layer_1.rbf.lengthscale\u001b[0;0m:\n",
       "Param([ 18.00537356,   1.92665848])"
      ]
     },
     "execution_count": 16,
     "metadata": {},
     "output_type": "execute_result"
    }
   ],
   "source": [
    "m.layer_1.kern.lengthscale"
   ]
  },
  {
   "cell_type": "code",
   "execution_count": 17,
   "metadata": {
    "collapsed": false
   },
   "outputs": [
    {
     "data": {
      "text/html": [
       "<style type=\"text/css\">\n",
       ".tg  {padding:2px 3px;word-break:normal;border-collapse:collapse;border-spacing:0;border-color:#DCDCDC;margin:0px auto;width:100%;}\n",
       ".tg td{font-family:\"Courier New\", Courier, monospace !important;font-weight:bold;color:#444;background-color:#F7FDFA;border-style:solid;border-width:1px;overflow:hidden;word-break:normal;border-color:#DCDCDC;}\n",
       ".tg th{font-family:\"Courier New\", Courier, monospace !important;font-weight:normal;color:#fff;background-color:#26ADE4;border-style:solid;border-width:1px;overflow:hidden;word-break:normal;border-color:#DCDCDC;}\n",
       ".tg .tg-left{font-family:\"Courier New\", Courier, monospace !important;font-weight:normal;text-align:left;}\n",
       ".tg .tg-right{font-family:\"Courier New\", Courier, monospace !important;font-weight:normal;text-align:right;}\n",
       "</style>\n",
       "<table class=\"tg\">\n",
       "\n",
       "<tr>\n",
       "  <th><b>Index</b></th>\n",
       "  <th><b>autoreg.layer_0.rbf.lengthscale</b></th>\n",
       "  <th><b>Constraint</b></th>\n",
       "  <th><b>Prior</b></th>\n",
       "  <th><b>Tied to</b></th>\n",
       "</tr>\n",
       "<tr><td class=tg-left>[0]</td><td  class=tg-right>16.7517835311</td><td class=tg-left>+ve</td><td class=tg-left></td><td class=tg-left>N/A</td></tr>\n",
       "</table>"
      ],
      "text/plain": [
       "\u001b[1mautoreg.layer_0.rbf.lengthscale\u001b[0;0m:\n",
       "Param([ 16.75178353])"
      ]
     },
     "execution_count": 17,
     "metadata": {},
     "output_type": "execute_result"
    }
   ],
   "source": [
    "m.layer_0.kern.lengthscale"
   ]
  },
  {
   "cell_type": "code",
   "execution_count": 18,
   "metadata": {
    "collapsed": false
   },
   "outputs": [
    {
     "name": "stdout",
     "output_type": "stream",
     "text": [
      "0.0343348510442\n"
     ]
    },
    {
     "data": {
      "image/png": "[encoded data removed]",
      "text/plain": [
       "<matplotlib.figure.Figure at 0x7fbd85e02ed0>"
      ]
     },
     "metadata": {},
     "output_type": "display_data"
    }
   ],
   "source": [
    "pd = m.freerun(U=data_in_test)\n",
    "_=plot(pd,'b',label='pred')\n",
    "_=plot(data_out_test[1:],'r',label='ground-truth')\n",
    "legend(loc='best')\n",
    "print comp_RMSE(pd,data_out_test[1:])"
   ]
  }
 ],
 "metadata": {
  "kernelspec": {
   "display_name": "Python 2",
   "language": "python",
   "name": "python2"
  },
  "language_info": {
   "codemirror_mode": {
    "name": "ipython",
    "version": 2
   },
   "file_extension": ".py",
   "mimetype": "text/x-python",
   "name": "python",
   "nbconvert_exporter": "python",
   "pygments_lexer": "ipython2",
   "version": "2.7.10"
  }
 },
 "nbformat": 4,
 "nbformat_minor": 0
}
