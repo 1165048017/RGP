{
 "cells": [
  {
   "cell_type": "markdown",
   "metadata": {},
   "source": [
    "# Regression Example on Mocap data"
   ]
  },
  {
   "cell_type": "code",
   "execution_count": 1,
   "metadata": {
    "collapsed": false
   },
   "outputs": [],
   "source": [
    "import autoreg\n",
    "import GPy\n",
    "import numpy as np\n",
    "from pylab import *\n",
    "import tables\n",
    "from IPython.display import HTML\n",
    "%matplotlib inline"
   ]
  },
  {
   "cell_type": "code",
   "execution_count": 2,
   "metadata": {
    "collapsed": true
   },
   "outputs": [],
   "source": [
    "def comp_RMSE(a,b):\n",
    "    return np.sqrt(np.square(a-b).mean())"
   ]
  },
  {
   "cell_type": "code",
   "execution_count": 3,
   "metadata": {
    "collapsed": true
   },
   "outputs": [],
   "source": [
    "def gen_frames(data, data_mean, data_std, skel, imgpath):\n",
    "    import os\n",
    "    import GPy\n",
    "    a = np.zeros((62,))\n",
    "    fig = figure(figsize=(8,10))\n",
    "    ax = fig.add_subplot(111, projection='3d',aspect='equal')\n",
    "    ax.view_init(elev=20., azim=65)\n",
    "    fig.tight_layout()\n",
    "    a[3:] = (data[0])*data_out_std+data_out_mean\n",
    "    p = GPy.plotting.matplot_dep.visualize.skeleton_show(a, skel ,axes=ax)\n",
    "    for i in xrange(data.shape[0]):\n",
    "        a[3:] = (data[i])*data_out_std+data_out_mean\n",
    "        p.modify(a)\n",
    "        fig.savefig(os.path.join(imgpath,'%05d'%i+'.png'))"
   ]
  },
  {
   "cell_type": "code",
   "execution_count": 5,
   "metadata": {
    "collapsed": true
   },
   "outputs": [],
   "source": [
    "from GPy.util.datasets import *\n",
    "\n",
    "def cmu_mocap_xyz(subject, train_motions, test_motions=[], sample_every=4, data_set='cmu_mocap'):\n",
    "    \"\"\"Load a given subject's training and test motions from the CMU motion capture data.\"\"\"\n",
    "    # Load in subject skeleton.\n",
    "    subject_dir = os.path.join(data_path, data_set)\n",
    "\n",
    "    # Make sure the data is downloaded.\n",
    "    all_motions = train_motions + test_motions\n",
    "    resource = cmu_urls_files(([subject], [all_motions]))\n",
    "    data_resources[data_set] = data_resources['cmu_mocap_full'].copy()\n",
    "    data_resources[data_set]['files'] = resource['files']\n",
    "    data_resources[data_set]['urls'] = resource['urls']\n",
    "    if resource['urls']:\n",
    "        download_data(data_set)\n",
    "\n",
    "    skel = GPy.util.mocap.acclaim_skeleton(os.path.join(subject_dir, subject + '.asf'))\n",
    "    \n",
    "    \n",
    "    for i in range(len(skel.vertices)):\n",
    "        print i, skel.vertices[i].name     \n",
    "\n",
    "    \n",
    "    # 0 root\n",
    "    # 1 lhipjoint\n",
    "    # 2 lfemur\n",
    "    # 3 ltibia\n",
    "    # 4 lfoot\n",
    "    # 5 ltoes\n",
    "    # 6 rhipjoint\n",
    "    # 7 rfemur\n",
    "    # 8 rtibia\n",
    "    # 9 rfoot\n",
    "    # 10 rtoes\n",
    "    # 11 lowerback\n",
    "    # 12 upperback\n",
    "    # 13 thorax\n",
    "    # 14 lowerneck\n",
    "    # 15 upperneck\n",
    "    # 16 head\n",
    "    # 17 lclavicle\n",
    "    # 18 lhumerus\n",
    "    # 19 lradius\n",
    "    # 20 lwrist\n",
    "    # 21 lhand\n",
    "    # 22 lfingers\n",
    "    # 23 lthumb\n",
    "    # 24 rclavicle\n",
    "    # 25 rhumerus\n",
    "    # 26 rradius\n",
    "    # 27 rwrist\n",
    "    # 28 rhand\n",
    "    # 29 rfingers\n",
    "    # 30 rthumb\n",
    "\n",
    "    \n",
    "    \n",
    "    \n",
    "    \n",
    "    # Set up labels for each sequence\n",
    "    exlbls = np.eye(len(train_motions))\n",
    "\n",
    "    # Load sequences\n",
    "    tot_length = 0\n",
    "    temp_Y = []\n",
    "    temp_Yxyz = []\n",
    "    temp_lbls = []\n",
    "    #u_inds = [15,16,17]\n",
    "    #root_inds = [0,1,2]\n",
    "    u_inds=[17]\n",
    "    root_inds = [2]\n",
    "    \n",
    "    for i in range(len(train_motions)):\n",
    "        temp_chan = skel.load_channels(os.path.join(subject_dir, subject + '_' + train_motions[i] + '.amc'))\n",
    "        #temp_xyz_chan = skel.to_xyz(temp_chan.flatten()) ## A\n",
    "        # Apparently the above is equiv. to giving temp_chan[0,:]. It's returning a 31 x 3 matrix.\n",
    "        # I need to do this for every temp_chan[j,:], and serialize the result. The toe should be the\n",
    "        # very last dimension (I think).\n",
    "        #temp_xyz_chan = np.zeros((temp_chan.shape[0],93))\n",
    "        #A -------\n",
    "        temp_xyz_chan = np.zeros((temp_chan.shape[0],len(u_inds)))                        \n",
    "        for j in range(temp_xyz_chan.shape[0]):                                 \n",
    "            foo = skel.to_xyz(temp_chan[j,:]).flatten()\n",
    "            temp_xyz_chan[j,:] = foo[u_inds] - foo[root_inds]\n",
    "        #----A\n",
    "        temp_Y.append(temp_chan[::sample_every, :])\n",
    "        temp_Yxyz.append(temp_xyz_chan[::sample_every, :]) ## A\n",
    "        temp_lbls.append(np.tile(exlbls[i, :], (temp_Y[i].shape[0], 1)))\n",
    "        tot_length += temp_Y[i].shape[0]\n",
    "\n",
    "    Y = np.zeros((tot_length, temp_Y[0].shape[1]))\n",
    "    Yxyz = np.zeros((tot_length, temp_Yxyz[0].shape[1])) #A\n",
    "    lbls = np.zeros((tot_length, temp_lbls[0].shape[1]))\n",
    "\n",
    "    #pb.plot(temp_Yxyz[-1][:,15:18]-temp_Yxyz[-1][:,0:3],'x-')\n",
    "\n",
    "    end_ind = 0\n",
    "    for i in range(len(temp_Y)):\n",
    "        start_ind = end_ind\n",
    "        end_ind += temp_Y[i].shape[0]\n",
    "        Y[start_ind:end_ind, :] = temp_Y[i]\n",
    "        Yxyz[start_ind:end_ind, :] = temp_Yxyz[i] #A\n",
    "        lbls[start_ind:end_ind, :] = temp_lbls[i]\n",
    "    if len(test_motions) > 0:\n",
    "        temp_Ytest = []\n",
    "        temp_lblstest = []\n",
    "        temp_Yxyz_test = []\n",
    "\n",
    "        testexlbls = np.eye(len(test_motions))\n",
    "        tot_test_length = 0\n",
    "        for i in range(len(test_motions)):\n",
    "            temp_chan = skel.load_channels(os.path.join(subject_dir, subject + '_' + test_motions[i] + '.amc'))\n",
    "            #A -------\n",
    "            temp_xyz_chan = np.zeros((temp_chan.shape[0],len(u_inds)))                        \n",
    "            for j in range(temp_xyz_chan.shape[0]):                                 \n",
    "                foo = skel.to_xyz(temp_chan[j,:]).flatten()\n",
    "                temp_xyz_chan[j,:] = foo[u_inds] - foo[root_inds]\n",
    "            #----A\n",
    "            temp_Ytest.append(temp_chan[::sample_every, :])\n",
    "            temp_Yxyz_test.append(temp_xyz_chan[::sample_every, :]) ## A\n",
    "            temp_lblstest.append(np.tile(testexlbls[i, :], (temp_Ytest[i].shape[0], 1)))\n",
    "            tot_test_length += temp_Ytest[i].shape[0]\n",
    "\n",
    "        # Load test data\n",
    "        Ytest = np.zeros((tot_test_length, temp_Ytest[0].shape[1]))\n",
    "        Yxyz_test = np.zeros((tot_test_length, temp_Yxyz_test[0].shape[1])) #A\n",
    "        lblstest = np.zeros((tot_test_length, temp_lblstest[0].shape[1]))\n",
    "\n",
    "        end_ind = 0\n",
    "        for i in range(len(temp_Ytest)):\n",
    "            start_ind = end_ind\n",
    "            end_ind += temp_Ytest[i].shape[0]\n",
    "            Ytest[start_ind:end_ind, :] = temp_Ytest[i]\n",
    "            Yxyz_test[start_ind:end_ind, :] = temp_Yxyz_test[i] #A\n",
    "            lblstest[start_ind:end_ind, :] = temp_lblstest[i]\n",
    "    else:\n",
    "        Ytest = None\n",
    "        lblstest = None\n",
    "\n",
    "    info = 'Subject: ' + subject + '. Training motions: '\n",
    "    for motion in train_motions:\n",
    "        info += motion + ', '\n",
    "    info = info[:-2]\n",
    "    if len(test_motions) > 0:\n",
    "        info += '. Test motions: '\n",
    "        for motion in test_motions:\n",
    "            info += motion + ', '\n",
    "        info = info[:-2] + '.'\n",
    "    else:\n",
    "        info += '.'\n",
    "    if sample_every != 1:\n",
    "        info += ' Data is sub-sampled to every ' + str(sample_every) + ' frames.'\n",
    "    return data_details_return({'Y': Y, 'lbls' : lbls, 'Ytest': Ytest, 'lblstest' : lblstest, 'info': info, 'skel': skel,'Yxyz':Yxyz,'Yxyz_test':Yxyz_test,'u_inds':u_inds,'root_inds':root_inds,'Yxyz_list':temp_Yxyz,'Yxyz_list_test':temp_Yxyz_test}, data_set)\n",
    "\n",
    "\n"
   ]
  },
  {
   "cell_type": "markdown",
   "metadata": {},
   "source": [
    "## Load the dataset"
   ]
  },
  {
   "cell_type": "code",
   "execution_count": 60,
   "metadata": {
    "collapsed": true
   },
   "outputs": [],
   "source": [
    "def load_data():\n",
    "    from GPy.util.datasets import cmu_mocap\n",
    "    train_motions = ['01', '02', '03', '04', # walking\n",
    "                '17', '18', '19', '20'] # running\n",
    "    test_motions = ['05','06','07','08','21','22','23','24']\n",
    "    data = cmu_mocap('35', train_motions, test_motions, sample_every=4, data_set='cmu_mocap')\n",
    "    return data\n",
    "\n",
    "def load_data_xyz():\n",
    "    #train_motions = ['01', '02', '03', '04', # walking\n",
    "    #            '17', '18', '19', '20'] # running\n",
    "    #test_motions = ['05','06','07','08','09','10','11','12','13','14','15','16','21','22','23','24','25','26']\n",
    "    train_motions = ['01', '02', '03', '04'] # walking\n",
    "    test_motions = ['05','06','07','08']\n",
    "    data = cmu_mocap_xyz('35', train_motions, test_motions, sample_every=4, data_set='cmu_mocap')\n",
    "    return data"
   ]
  },
  {
   "cell_type": "code",
   "execution_count": 61,
   "metadata": {
    "collapsed": false
   },
   "outputs": [
    {
     "name": "stdout",
     "output_type": "stream",
     "text": [
      "0 root\n",
      "1 lhipjoint\n",
      "2 lfemur\n",
      "3 ltibia\n",
      "4 lfoot\n",
      "5 ltoes\n",
      "6 rhipjoint\n",
      "7 rfemur\n",
      "8 rtibia\n",
      "9 rfoot\n",
      "10 rtoes\n",
      "11 lowerback\n",
      "12 upperback\n",
      "13 thorax\n",
      "14 lowerneck\n",
      "15 upperneck\n",
      "16 head\n",
      "17 lclavicle\n",
      "18 lhumerus\n",
      "19 lradius\n",
      "20 lwrist\n",
      "21 lhand\n",
      "22 lfingers\n",
      "23 lthumb\n",
      "24 rclavicle\n",
      "25 rhumerus\n",
      "26 rradius\n",
      "27 rwrist\n",
      "28 rhand\n",
      "29 rfingers\n",
      "30 rthumb\n"
     ]
    }
   ],
   "source": [
    "#data = load_data()\n",
    "data = load_data_xyz()"
   ]
  },
  {
   "cell_type": "code",
   "execution_count": 62,
   "metadata": {
    "collapsed": false,
    "scrolled": false
   },
   "outputs": [],
   "source": [
    "\n",
    "y = data['Y']\n",
    "u = data['Yxyz_list']\n",
    "u_flat = np.vstack(u)\n",
    "\n",
    "lbls = data['lbls']\n",
    "data_out_train = y\n",
    "\n",
    "#---- REMOVE\n",
    "#datatmp = load_data()\n",
    "#if np.sum(np.abs(y - datatmp['Y'])) != 0:\n",
    "#    print np.sum(y - datatmp['Y'])\n",
    "#----\n",
    "\n",
    "data_out_train = data_out_train[:,3:]\n",
    "data_out_mean  = data_out_train.mean(axis=0)\n",
    "data_out_std   = data_out_train.std(axis=0)\n",
    "data_out_train = (data_out_train-data_out_mean)/data_out_std\n",
    "#data_out_train_list = [data_out_train[np.where(lbls[:,i]==1)[0]][1:] for i in range(lbls.shape[1])]\n",
    "data_out_train_list = [data_out_train[np.where(lbls[:,i]==1)[0]] for i in range(lbls.shape[1])]\n",
    "\n",
    "\n",
    "# Create controls\n",
    "#data_in_train_list = [y[np.where(lbls[:,i]==1)[0]][:,2][1:] - y[np.where(lbls[:,i]==1)[0]][:,2][:-1] for i in range(lbls.shape[1])]\n",
    "#from scipy.ndimage.filters import gaussian_filter1d\n",
    "#data_in_train_list = [np.ones(d.shape+(1,))*d.mean() for d in data_in_train_list]\n",
    "\n",
    "##data_in_train_list = [gaussian_filter1d(d,8.)[:,None] for d in data_in_train_list]\n",
    "##data_in_train_list = [np.vstack([d[:10],d]) for d in data_in_train_list]\n",
    "\n",
    "\n",
    "data_in_train_list = u\n",
    "u_flat_mean = u_flat.mean(axis=0)\n",
    "u_flat_std = u_flat.std(axis=0)\n",
    "data_in_train = (u_flat-u_flat_mean)/u_flat_std\n",
    "    \n",
    "#data_in_train_list = u\n"
   ]
  },
  {
   "cell_type": "code",
   "execution_count": 63,
   "metadata": {
    "collapsed": false,
    "scrolled": true
   },
   "outputs": [
    {
     "name": "stdout",
     "output_type": "stream",
     "text": [
      "(90, 1)\n",
      "(90, 59)\n",
      "90\n",
      "102\n",
      "107\n",
      "109\n"
     ]
    },
    {
     "data": {
      "image/png": "[encoded data removed]",
      "text/plain": [
       "<matplotlib.figure.Figure at 0x7f67822318d0>"
      ]
     },
     "metadata": {},
     "output_type": "display_data"
    },
    {
     "data": {
      "image/png": "[encoded data removed]",
      "text/plain": [
       "<matplotlib.figure.Figure at 0x7f67820bb710>"
      ]
     },
     "metadata": {},
     "output_type": "display_data"
    },
    {
     "data": {
      "image/png": "[encoded data removed]",
      "text/plain": [
       "<matplotlib.figure.Figure at 0x7f678204e050>"
      ]
     },
     "metadata": {},
     "output_type": "display_data"
    },
    {
     "data": {
      "image/png": "[encoded data removed]",
      "text/plain": [
       "<matplotlib.figure.Figure at 0x7f678203c7d0>"
      ]
     },
     "metadata": {},
     "output_type": "display_data"
    }
   ],
   "source": [
    "print data_in_train_list[0].shape\n",
    "print data_out_train_list[0].shape\n",
    "\n",
    "for i in range(len(data_in_train_list)):\n",
    "    plt.figure()\n",
    "    plt.plot(data_in_train_list[i], 'x-')\n",
    "    plt.title(i)\n",
    "    print data_in_train_list[i].shape[0]"
   ]
  },
  {
   "cell_type": "code",
   "execution_count": 64,
   "metadata": {
    "collapsed": false
   },
   "outputs": [
    {
     "name": "stdout",
     "output_type": "stream",
     "text": [
      "(408, 62)\n",
      "(408, 59)\n",
      "(408, 1)\n",
      "(408, 1)\n"
     ]
    }
   ],
   "source": [
    "print y.shape\n",
    "print data_out_train.shape\n",
    "print u_flat.shape\n",
    "print data_in_train.shape"
   ]
  },
  {
   "cell_type": "code",
   "execution_count": 65,
   "metadata": {
    "collapsed": false
   },
   "outputs": [],
   "source": [
    "ytest = data['Ytest']\n",
    "lblstest = data['lblstest']\n",
    "u = data['Yxyz_list_test']\n",
    "data_out_test = ytest\n",
    "\n",
    "data_out_test= data_out_test[:,3:]\n",
    "data_out_test = (data_out_test-data_out_mean)/data_out_std\n",
    "\n",
    "#data_out_test_list = [data_out_test[np.where(lblstest[:,i]==1)[0]][1:] for i in range(lblstest.shape[1])]\n",
    "data_out_test_list = [data_out_test[np.where(lblstest[:,i]==1)[0]] for i in range(lblstest.shape[1])]\n",
    "\n",
    "# Create controls\n",
    "#data_in_test_list = [ytest[np.where(lblstest[:,i]==1)[0]][:,2][1:] - ytest[np.where(lblstest[:,i]==1)[0]][:,2][:-1] for i in range(lblstest.shape[1])]\n",
    "#data_in_test_list = [np.ones(d.shape+(1,))*d.mean() for d in data_in_test_list]\n",
    "\n",
    "#data_in_test_list = u\n",
    "\n",
    "data_in_test_list = u\n",
    "data_in_test = (u_flat-u_flat_mean)/u_flat_std"
   ]
  },
  {
   "cell_type": "markdown",
   "metadata": {},
   "source": [
    "## Fit a model without NN-constraint"
   ]
  },
  {
   "cell_type": "code",
   "execution_count": 28,
   "metadata": {
    "collapsed": true
   },
   "outputs": [],
   "source": [
    "# Down-scaling the input signals\n",
    "#data_in_train_list = [d*0.1 for d in data_in_train_list]\n",
    "#data_in_test_list = [d*0.1 for d in data_in_test_list]\n",
    "#data_in_train = data_in_train*0.1"
   ]
  },
  {
   "cell_type": "code",
   "execution_count": 66,
   "metadata": {
    "collapsed": true
   },
   "outputs": [],
   "source": [
    "data_in_test_list = [(d-u_flat_mean)/u_flat_std for d in data_in_test_list]"
   ]
  },
  {
   "cell_type": "code",
   "execution_count": 67,
   "metadata": {
    "collapsed": false
   },
   "outputs": [],
   "source": [
    "#=============================\n",
    "# Initialize a model\n",
    "#=============================\n",
    "\n",
    "Q = 100 # 200\n",
    "win_in = 20 # 20\n",
    "win_out = 20 # 20\n",
    "use_controls = True\n",
    "back_cstr = False\n",
    "\n",
    "\n",
    "\n",
    "# create the model\n",
    "if use_controls:\n",
    "    #m = autoreg.DeepAutoreg([0, win_out], data_out_train, U=data_in_train, U_win=win_in, X_variance=0.05,\n",
    "    #                    num_inducing=Q, back_cstr=back_cstr, MLP_dims=[300,200], nDims=[data_out_train.shape[1],1],\n",
    "    #                     kernels=[GPy.kern.RBF(win_out,ARD=True,inv_l=True, useGPU=True),\n",
    "    #                     GPy.kern.RBF(win_out+win_in,ARD=True,inv_l=True, useGPU=True)])\n",
    "    m = autoreg.DeepAutoreg([0, win_out, win_out], data_out_train, U=data_in_train, U_win=win_in, X_variance=0.05,\n",
    "                        num_inducing=Q, back_cstr=back_cstr, MLP_dims=[300,200], nDims=[data_out_train.shape[1],1,1],\n",
    "                         kernels=[GPy.kern.RBF(win_out,ARD=True,inv_l=True, useGPU=True),\n",
    "                         GPy.kern.RBF(win_out+win_out,ARD=True,inv_l=True, useGPU=True),\n",
    "                         GPy.kern.RBF(win_out+win_in,ARD=True,inv_l=True, useGPU=True)])\n",
    "    #m = autoreg.DeepAutoreg([0, win_out, win_out], data_out_train_list, U=data_in_train_list, U_win=win_in, X_variance=0.05,\n",
    "    #                    num_inducing=Q, back_cstr=back_cstr, MLP_dims=[300,200], nDims=[data_out_train.shape[1],1,1],\n",
    "    #                     kernels=[GPy.kern.RBF(win_out,ARD=True,inv_l=True, useGPU=True),\n",
    "    #                     GPy.kern.RBF(win_out+win_out,ARD=True,inv_l=True, useGPU=True),\n",
    "    #                     GPy.kern.RBF(win_out+win_in,ARD=True,inv_l=True, useGPU=True)])\n",
    "else:\n",
    "    m = autoreg.DeepAutoreg([0, win_out], data_in_train, U=None, U_win=win_in, X_variance=0.05,\n",
    "                        num_inducing=Q, back_cstr=back_cstr, MLP_dims=[200,100], nDims=[data_out_train.shape[1],1],\n",
    "                         kernels=[GPy.kern.RBF(win_out,ARD=True,inv_l=True, useGPU=True),\n",
    "                         GPy.kern.RBF(win_out,ARD=True,inv_l=True, useGPU=True)])\n"
   ]
  },
  {
   "cell_type": "code",
   "execution_count": 12,
   "metadata": {
    "collapsed": true
   },
   "outputs": [
    {
     "ename": "ValueError",
     "evalue": "could not broadcast input array from shape (35200) into shape (7214)",
     "output_type": "error",
     "traceback": [
      "\u001b[1;31m---------------------------------------------------------------------------\u001b[0m",
      "\u001b[1;31mValueError\u001b[0m                                Traceback (most recent call last)",
      "\u001b[1;32m<ipython-input-12-bac522203785>\u001b[0m in \u001b[0;36m<module>\u001b[1;34m()\u001b[0m\n\u001b[0;32m      7\u001b[0m     \u001b[0mps\u001b[0m \u001b[1;33m=\u001b[0m \u001b[0mf\u001b[0m\u001b[1;33m.\u001b[0m\u001b[0mroot\u001b[0m\u001b[1;33m.\u001b[0m\u001b[0mparam_array\u001b[0m\u001b[1;33m[\u001b[0m\u001b[1;33m:\u001b[0m\u001b[1;33m]\u001b[0m\u001b[1;33m\u001b[0m\u001b[0m\n\u001b[0;32m      8\u001b[0m     \u001b[0mf\u001b[0m\u001b[1;33m.\u001b[0m\u001b[0mclose\u001b[0m\u001b[1;33m(\u001b[0m\u001b[1;33m)\u001b[0m\u001b[1;33m\u001b[0m\u001b[0m\n\u001b[1;32m----> 9\u001b[1;33m     \u001b[0mm\u001b[0m\u001b[1;33m.\u001b[0m\u001b[0mparam_array\u001b[0m\u001b[1;33m[\u001b[0m\u001b[1;33m:\u001b[0m\u001b[1;33m]\u001b[0m \u001b[1;33m=\u001b[0m \u001b[0mps\u001b[0m\u001b[1;33m\u001b[0m\u001b[0m\n\u001b[0m\u001b[0;32m     10\u001b[0m     \u001b[0mm\u001b[0m\u001b[1;33m.\u001b[0m\u001b[0m_trigger_params_changed\u001b[0m\u001b[1;33m(\u001b[0m\u001b[1;33m)\u001b[0m\u001b[1;33m\u001b[0m\u001b[0m\n",
      "\u001b[1;31mValueError\u001b[0m: could not broadcast input array from shape (35200) into shape (7214)"
     ]
    }
   ],
   "source": [
    "#=============================\n",
    "# Load a trained model\n",
    "#=============================\n",
    "\n",
    "import tables\n",
    "with tables.openFile('./walk_run_2.h5','r') as f:\n",
    "    ps = f.root.param_array[:]\n",
    "    f.close()\n",
    "    m.param_array[:] = ps\n",
    "    m._trigger_params_changed()"
   ]
  },
  {
   "cell_type": "code",
   "execution_count": 68,
   "metadata": {
    "collapsed": false,
    "scrolled": true
   },
   "outputs": [],
   "source": [
    "if not back_cstr:\n",
    "    pp = GPy.util.pca.PCA(data_out_train)\n",
    "    pca_projection = pp.project(data_out_train, 1)\n",
    "    pca_projection = (pca_projection - pca_projection.mean()) / pca_projection.std()\n",
    "    m.layer_1.Xs_flat[0].mean[:] = pca_projection\n",
    "    \n",
    "    m.layer_2.Xs_flat[0].mean[:] = pca_projection\n",
    "    \n",
    "    m._trigger_params_changed()\n",
    "    \n",
    "    # Random permutation for Z\n",
    "#     perm = np.random.permutation(range(m.layer_1.X.mean.shape[0]))\n",
    "#     m.layer_1.Z[:] = m.layer_1.X.mean[perm[0:Q],:].values.copy()\n",
    "    \n",
    "    # K-means initialization\n",
    "    from sklearn.cluster import KMeans\n",
    "    km = KMeans(n_clusters=m.layer_1.Z.shape[0],n_init=1000,max_iter=100)\n",
    "    km.fit(m.layer_1.X.mean.values.copy())\n",
    "    m.layer_1.Z[:] = km.cluster_centers_.copy()\n",
    "    \n",
    "    km = KMeans(n_clusters=m.layer_0.Z.shape[0],n_init=1000,max_iter=100)\n",
    "    km.fit(m.layer_0.X.mean.values.copy())\n",
    "    m.layer_0.Z[:] = km.cluster_centers_.copy()\n",
    "    \n",
    "    km = KMeans(n_clusters=m.layer_2.Z.shape[0],n_init=1000,max_iter=100)\n",
    "    km.fit(m.layer_2.X.mean.values.copy())\n",
    "    m.layer_2.Z[:] = km.cluster_centers_.copy()\n",
    "\n",
    "    m._trigger_params_changed()"
   ]
  },
  {
   "cell_type": "code",
   "execution_count": 69,
   "metadata": {
    "collapsed": true
   },
   "outputs": [],
   "source": [
    "m_init = m.copy()"
   ]
  },
  {
   "cell_type": "code",
   "execution_count": 22,
   "metadata": {
    "collapsed": true
   },
   "outputs": [],
   "source": [
    "m = m_init.copy()"
   ]
  },
  {
   "cell_type": "code",
   "execution_count": 70,
   "metadata": {
    "collapsed": false
   },
   "outputs": [
    {
     "name": "stdout",
     "output_type": "stream",
     "text": [
      "\n",
      "Name                              : autoreg\n",
      "Log-likelihood                    : -483861.841682\n",
      "Number of Parameters              : 11738\n",
      "Number of Optimization Parameters : 11732\n",
      "Updates                           : True\n",
      "Parameters:\n",
      "  autoreg.                         |       Value        |  Constraint  |  Prior  |  Tied to\n",
      "  \u001b[1mlayer_2.inducing inputs        \u001b[0;0m  |         (100, 40)  |              |         |         \n",
      "  \u001b[1mlayer_2.rbf.variance           \u001b[0;0m  |               1.0  |    fixed     |         |         \n",
      "  \u001b[1mlayer_2.rbf.inv_lengthscale    \u001b[0;0m  |             (40,)  |     +ve      |         |         \n",
      "  \u001b[1mlayer_2.Gaussian_noise.variance\u001b[0;0m  |              0.01  |    fixed     |         |         \n",
      "  \u001b[1mlayer_2.qX_0.mean              \u001b[0;0m  |          (408, 1)  |              |         |         \n",
      "  \u001b[1mlayer_2.qX_0.variance          \u001b[0;0m  |          (408, 1)  |     +ve      |         |         \n",
      "  \u001b[1mlayer_1.inducing inputs        \u001b[0;0m  |         (100, 40)  |              |         |         \n",
      "  \u001b[1mlayer_1.rbf.variance           \u001b[0;0m  |               1.0  |    fixed     |         |         \n",
      "  \u001b[1mlayer_1.rbf.inv_lengthscale    \u001b[0;0m  |             (40,)  |     +ve      |         |         \n",
      "  \u001b[1mlayer_1.Gaussian_noise.variance\u001b[0;0m  |              0.01  |    fixed     |         |         \n",
      "  \u001b[1mlayer_1.qX_0.mean              \u001b[0;0m  |          (408, 1)  |              |         |         \n",
      "  \u001b[1mlayer_1.qX_0.variance          \u001b[0;0m  |          (408, 1)  |     +ve      |         |         \n",
      "  \u001b[1mlayer_0.inducing inputs        \u001b[0;0m  |         (100, 20)  |              |         |         \n",
      "  \u001b[1mlayer_0.rbf.variance           \u001b[0;0m  |               1.0  |    fixed     |         |         \n",
      "  \u001b[1mlayer_0.rbf.inv_lengthscale    \u001b[0;0m  |             (20,)  |     +ve      |         |         \n",
      "  \u001b[1mlayer_0.Gaussian_noise.variance\u001b[0;0m  |  0.00998850904912  |    fixed     |         |         \n"
     ]
    }
   ],
   "source": [
    "# initialization\n",
    "for i in range(m.nLayers):\n",
    "    if not back_cstr:\n",
    "        m.layers[i].kern.inv_l[:]  = 1./((m.layers[i].X.mean.values.max(0)-m.layers[i].X.mean.values.min(0))/np.sqrt(2.))**2\n",
    "    else:\n",
    "        m.layers[i].kern.inv_l[:]  = 1./9.#((m.layers[i].X.mean.values.max(0)-m.layers[i].X.mean.values.min(0))/np.sqrt(2.))\n",
    "    m.layers[i].likelihood.variance[:] = 0.01*data_out_train.var()\n",
    "    m.layers[i].kern.variance.fix(warning=False)\n",
    "    m.layers[i].likelihood.fix(warning=False)\n",
    "    \n",
    "m.layer_1.kern.variance[:] = m.layer_1.Xs_flat[0].mean.var()\n",
    "\n",
    "m.layer_2.kern.variance[:] = m.layer_2.Xs_flat[0].mean.var()\n",
    "\n",
    "if back_cstr:\n",
    "    m.layer_1.likelihood.variance[:] = 0.01\n",
    "    m.layer_1.Z.fix()\n",
    "else:\n",
    "    m.layer_1.likelihood.variance[:] = 0.01 * m.layer_1.Xs_flat[0].mean.var()\n",
    "    m.layer_2.likelihood.variance[:] = 0.01 * m.layer_2.Xs_flat[0].mean.var()\n",
    "print m"
   ]
  },
  {
   "cell_type": "code",
   "execution_count": null,
   "metadata": {
    "collapsed": false
   },
   "outputs": [],
   "source": [
    "# optimization\n",
    "m.optimize('bfgs',messages=1,max_iters=100) # 100\n",
    "#m.layer_1.Z.unfix()\n",
    "for i in range(m.nLayers):\n",
    "    m.layers[i].kern.variance.constrain_positive(warning=False)\n",
    "#m.optimize('bfgs',messages=1,max_iters=200) # 0\n",
    "for i in range(m.nLayers):\n",
    "    m.layers[i].likelihood.constrain_positive(warning=False)\n",
    "m.optimize('bfgs',messages=1,max_iters=10000)"
   ]
  },
  {
   "cell_type": "code",
   "execution_count": null,
   "metadata": {
    "collapsed": true
   },
   "outputs": [],
   "source": [
    "#m.optimize('bfgs',messages=1,max_iters=10000)"
   ]
  },
  {
   "cell_type": "code",
   "execution_count": 41,
   "metadata": {
    "collapsed": false,
    "scrolled": true
   },
   "outputs": [
    {
     "name": "stdout",
     "output_type": "stream",
     "text": [
      "\n",
      "Name                              : autoreg\n",
      "Log-likelihood                    : -24331.6663457\n",
      "Number of Parameters              : 22166\n",
      "Number of Optimization Parameters : 22166\n",
      "Updates                           : True\n",
      "Parameters:\n",
      "  autoreg.                         |       Value       |  Constraint  |  Prior  |  Tied to\n",
      "  \u001b[1mlayer_2.inducing inputs        \u001b[0;0m  |        (200, 40)  |              |         |         \n",
      "  \u001b[1mlayer_2.rbf.variance           \u001b[0;0m  |   0.323652627861  |     +ve      |         |         \n",
      "  \u001b[1mlayer_2.rbf.inv_lengthscale    \u001b[0;0m  |            (40,)  |     +ve      |         |         \n",
      "  \u001b[1mlayer_2.Gaussian_noise.variance\u001b[0;0m  |  0.0422040389863  |     +ve      |         |         \n",
      "  \u001b[1mlayer_2.qX_0.mean              \u001b[0;0m  |         (515, 1)  |              |         |         \n",
      "  \u001b[1mlayer_2.qX_0.variance          \u001b[0;0m  |         (515, 1)  |     +ve      |         |         \n",
      "  \u001b[1mlayer_1.inducing inputs        \u001b[0;0m  |        (200, 40)  |              |         |         \n",
      "  \u001b[1mlayer_1.rbf.variance           \u001b[0;0m  |    10.5579686322  |     +ve      |         |         \n",
      "  \u001b[1mlayer_1.rbf.inv_lengthscale    \u001b[0;0m  |            (40,)  |     +ve      |         |         \n",
      "  \u001b[1mlayer_1.Gaussian_noise.variance\u001b[0;0m  |  0.0680843821629  |     +ve      |         |         \n",
      "  \u001b[1mlayer_1.qX_0.mean              \u001b[0;0m  |         (515, 1)  |              |         |         \n",
      "  \u001b[1mlayer_1.qX_0.variance          \u001b[0;0m  |         (515, 1)  |     +ve      |         |         \n",
      "  \u001b[1mlayer_0.inducing inputs        \u001b[0;0m  |        (200, 20)  |              |         |         \n",
      "  \u001b[1mlayer_0.rbf.variance           \u001b[0;0m  |    2.64439202693  |     +ve      |         |         \n",
      "  \u001b[1mlayer_0.rbf.inv_lengthscale    \u001b[0;0m  |            (20,)  |     +ve      |         |         \n",
      "  \u001b[1mlayer_0.Gaussian_noise.variance\u001b[0;0m  |   0.143285507478  |     +ve      |         |         \n"
     ]
    }
   ],
   "source": [
    "print m"
   ]
  },
  {
   "cell_type": "code",
   "execution_count": 67,
   "metadata": {
    "collapsed": true
   },
   "outputs": [],
   "source": [
    "# Save the model parameters\n",
    "m.save('walk_run_2_new.h5')"
   ]
  },
  {
   "cell_type": "markdown",
   "metadata": {},
   "source": [
    "## Evaluate the model"
   ]
  },
  {
   "cell_type": "code",
   "execution_count": 22,
   "metadata": {
    "collapsed": false
   },
   "outputs": [
    {
     "name": "stdout",
     "output_type": "stream",
     "text": [
      "[0.87650805402185072, 1.3889246038834675, 1.3682124514250922, 1.5525337231122056]\n",
      "the overall RMSE: 1.3466767596\n"
     ]
    }
   ],
   "source": [
    "# Free-run on the training data\n",
    "pds = [m.freerun(U=data_in, m_match=False) for data_in in data_in_train_list]\n",
    "\n",
    "rmse = [comp_RMSE(pd[win_out:],gt[win_out+win_in:]) for pd, gt in zip(pds, data_out_train_list)]\n",
    "rmse_all = comp_RMSE(np.vstack([pd[win_out:] for pd in pds]),np.vstack([gt[win_out+win_in:] for gt in data_out_train_list]))\n",
    "print rmse\n",
    "print \"the overall RMSE: \"+str(rmse_all)"
   ]
  },
  {
   "cell_type": "code",
   "execution_count": 43,
   "metadata": {
    "collapsed": false
   },
   "outputs": [
    {
     "name": "stdout",
     "output_type": "stream",
     "text": [
      "[0.95947926567106379, 0.97715090640583935, 1.0705221472227391, 1.0529084952134016, 0.98809433162482785, 0.93842959684918137, 1.1072936373629181, 1.0027549908573437, 0.93964479985071458, 0.98954789603991444, 0.93322886609883349]\n",
      "the overall RMSE: 0.997730273853\n"
     ]
    }
   ],
   "source": [
    "# Free-run on the test data\n",
    "pds = [m.freerun(U=data_in, m_match=True).mean for data_in in data_in_test_list]\n",
    "\n",
    "# Unnormalize data and predictions\n",
    "#pds = [ p*data_out_std + data_out_mean for p in pds]\n",
    "#data_out_test_list_original = [ p*data_out_std + data_out_mean for p in data_in_test_list]\n",
    "#rmse = [comp_RMSE(pd[win_out:],gt[win_out+win_in:]) for pd, gt in zip(pds, data_out_test_list_original)]\n",
    "#rmse_all = comp_RMSE(np.vstack([pd[win_out:] for pd in pds]),np.vstack([gt[win_out+win_in:] for gt in data_out_test_list_original]))\n",
    "\n",
    "rmse = [comp_RMSE(pd[win_out:],gt[win_out+win_in:]) for pd, gt in zip(pds, data_out_test_list)]\n",
    "rmse_all = comp_RMSE(np.vstack([pd[win_out:] for pd in pds]),np.vstack([gt[win_out+win_in:] for gt in data_out_test_list]))\n",
    "\n",
    "print rmse\n",
    "print \"the overall RMSE: \"+str(rmse_all)\n",
    "# 0.53, total 0.55, 1 layer\n",
    "# 0.50, total 0.54, 2 layers\n",
    "# 0.48, total 0.50, 2 layers 200 inducing points\n",
    "# 0.48, total 0.49, 2 layers 200 inducing points"
   ]
  },
  {
   "cell_type": "code",
   "execution_count": 44,
   "metadata": {
    "collapsed": false
   },
   "outputs": [
    {
     "data": {
      "text/plain": [
       "[<matplotlib.lines.Line2D at 0x7f67825b18d0>]"
      ]
     },
     "execution_count": 44,
     "metadata": {},
     "output_type": "execute_result"
    },
    {
     "data": {
      "image/png": "[encoded data removed]",
      "text/plain": [
       "<matplotlib.figure.Figure at 0x7f67825b1090>"
      ]
     },
     "metadata": {},
     "output_type": "display_data"
    }
   ],
   "source": [
    "numTest = 0\n",
    "numOutput = 3\n",
    "plot(data_out_test_list[numTest][win_out:,numOutput])\n",
    "plot(pds[numTest][:,numOutput])"
   ]
  },
  {
   "cell_type": "code",
   "execution_count": null,
   "metadata": {
    "collapsed": true
   },
   "outputs": [],
   "source": [
    "data_out_test_list_original"
   ]
  },
  {
   "cell_type": "code",
   "execution_count": 126,
   "metadata": {
    "collapsed": false
   },
   "outputs": [
    {
     "data": {
      "text/plain": [
       "0.17593833502916759"
      ]
     },
     "execution_count": 126,
     "metadata": {},
     "output_type": "execute_result"
    }
   ],
   "source": [
    "data_in_test_list[0].mean()"
   ]
  },
  {
   "cell_type": "markdown",
   "metadata": {},
   "source": [
    "## Others"
   ]
  },
  {
   "cell_type": "code",
   "execution_count": 146,
   "metadata": {
    "collapsed": false,
    "scrolled": true
   },
   "outputs": [
    {
     "data": {
      "text/plain": [
       "4.529633915824939"
      ]
     },
     "execution_count": 146,
     "metadata": {},
     "output_type": "execute_result"
    }
   ],
   "source": [
    "m.layer_1.Y.mean.var()"
   ]
  },
  {
   "cell_type": "code",
   "execution_count": 145,
   "metadata": {
    "collapsed": false,
    "scrolled": true
   },
   "outputs": [
    {
     "ename": "AttributeError",
     "evalue": "'MLP' object has no attribute 'lengthscale'",
     "output_type": "error",
     "traceback": [
      "\u001b[1;31m---------------------------------------------------------------------------\u001b[0m",
      "\u001b[1;31mAttributeError\u001b[0m                            Traceback (most recent call last)",
      "\u001b[1;32m<ipython-input-145-5a93f991ccf9>\u001b[0m in \u001b[0;36m<module>\u001b[1;34m()\u001b[0m\n\u001b[1;32m----> 1\u001b[1;33m \u001b[0mm\u001b[0m\u001b[1;33m.\u001b[0m\u001b[0mlayer_1\u001b[0m\u001b[1;33m.\u001b[0m\u001b[0mkern\u001b[0m\u001b[1;33m.\u001b[0m\u001b[0mlengthscale\u001b[0m\u001b[1;33m\u001b[0m\u001b[0m\n\u001b[0m",
      "\u001b[1;31mAttributeError\u001b[0m: 'MLP' object has no attribute 'lengthscale'"
     ]
    }
   ],
   "source": [
    "m.layer_1.kern.lengthscale"
   ]
  },
  {
   "cell_type": "code",
   "execution_count": 147,
   "metadata": {
    "collapsed": false
   },
   "outputs": [
    {
     "data": {
      "text/plain": [
       "array([ 1.49720692,  1.59379293,  1.66281774,  1.71489136,  1.74561589,\n",
       "        1.77174932,  1.79758446,  1.81663704,  1.83379365,  1.85612847,\n",
       "        1.88681233,  1.91981592,  1.95266578,  1.98463746,  2.0051089 ,\n",
       "        2.02737174,  2.04854749,  2.08379001,  2.11121498,  2.12778411,\n",
       "        0.5053552 ,  0.50905189,  0.51167665,  0.51271615,  0.51302051,\n",
       "        0.51293417,  0.5122048 ,  0.51108828,  0.51025977,  0.50996301,\n",
       "        0.50970293,  0.5086646 ,  0.50654639,  0.50368615,  0.50054116,\n",
       "        0.49744697,  0.49462877,  0.49213959,  0.49023948,  0.48934644])"
      ]
     },
     "execution_count": 147,
     "metadata": {},
     "output_type": "execute_result"
    }
   ],
   "source": [
    "m.layer_1.X.mean.values.std(0)"
   ]
  },
  {
   "cell_type": "code",
   "execution_count": 148,
   "metadata": {
    "collapsed": false,
    "scrolled": true
   },
   "outputs": [
    {
     "data": {
      "text/html": [
       "<style type=\"text/css\">\n",
       ".tg  {padding:2px 3px;word-break:normal;border-collapse:collapse;border-spacing:0;border-color:#DCDCDC;margin:0px auto;width:100%;}\n",
       ".tg td{font-family:\"Courier New\", Courier, monospace !important;font-weight:bold;color:#444;background-color:#F7FDFA;border-style:solid;border-width:1px;overflow:hidden;word-break:normal;border-color:#DCDCDC;}\n",
       ".tg th{font-family:\"Courier New\", Courier, monospace !important;font-weight:normal;color:#fff;background-color:#26ADE4;border-style:solid;border-width:1px;overflow:hidden;word-break:normal;border-color:#DCDCDC;}\n",
       ".tg .tg-left{font-family:\"Courier New\", Courier, monospace !important;font-weight:normal;text-align:left;}\n",
       ".tg .tg-right{font-family:\"Courier New\", Courier, monospace !important;font-weight:normal;text-align:right;}\n",
       "</style>\n",
       "<table class=\"tg\">\n",
       "\n",
       "<tr>\n",
       "  <th><b>Index</b></th>\n",
       "  <th><b>autoreg.layer_1.X_var_0</b></th>\n",
       "  <th><b>Constraint</b></th>\n",
       "  <th><b>Prior</b></th>\n",
       "  <th><b>Tied to</b></th>\n",
       "</tr>\n",
       "<tr><td class=tg-left>[0 0]</td><td  class=tg-right>0.0434249852735</td><td class=tg-left>+ve</td><td class=tg-left></td><td class=tg-left>N/A</td></tr>\n",
       "<tr><td class=tg-left>[1 0]</td><td  class=tg-right>0.0429338816992</td><td class=tg-left>+ve</td><td class=tg-left></td><td class=tg-left>N/A</td></tr>\n",
       "<tr><td class=tg-left>[2 0]</td><td  class=tg-right>0.0424016937495</td><td class=tg-left>+ve</td><td class=tg-left></td><td class=tg-left>N/A</td></tr>\n",
       "<tr><td class=tg-left>[3 0]</td><td  class=tg-right>0.0413843110302</td><td class=tg-left>+ve</td><td class=tg-left></td><td class=tg-left>N/A</td></tr>\n",
       "<tr><td class=tg-left>[4 0]</td><td  class=tg-right>0.0399299924506</td><td class=tg-left>+ve</td><td class=tg-left></td><td class=tg-left>N/A</td></tr>\n",
       "<tr><td class=tg-left>[5 0]</td><td  class=tg-right>0.0385506206554</td><td class=tg-left>+ve</td><td class=tg-left></td><td class=tg-left>N/A</td></tr>\n",
       "<tr><td class=tg-left>[6 0]</td><td  class=tg-right>0.0381347815653</td><td class=tg-left>+ve</td><td class=tg-left></td><td class=tg-left>N/A</td></tr>\n",
       "<tr><td class=tg-left>[7 0]</td><td  class=tg-right>0.0386631746286</td><td class=tg-left>+ve</td><td class=tg-left></td><td class=tg-left>N/A</td></tr>\n",
       "<tr><td class=tg-left>[8 0]</td><td  class=tg-right>0.0397105630138</td><td class=tg-left>+ve</td><td class=tg-left></td><td class=tg-left>N/A</td></tr>\n",
       "<tr><td class=tg-left>[9 0]</td><td  class=tg-right>0.0410554285005</td><td class=tg-left>+ve</td><td class=tg-left></td><td class=tg-left>N/A</td></tr>\n",
       "<tr><td class=tg-left>[10  0]</td><td  class=tg-right>0.0422629403814</td><td class=tg-left>+ve</td><td class=tg-left></td><td class=tg-left>N/A</td></tr>\n",
       "<tr><td class=tg-left>[11  0]</td><td  class=tg-right>0.0410644659188</td><td class=tg-left>+ve</td><td class=tg-left></td><td class=tg-left>N/A</td></tr>\n",
       "<tr><td class=tg-left>[12  0]</td><td  class=tg-right>0.0414310080922</td><td class=tg-left>+ve</td><td class=tg-left></td><td class=tg-left>N/A</td></tr>\n",
       "<tr><td class=tg-left>[13  0]</td><td  class=tg-right>0.0401223154558</td><td class=tg-left>+ve</td><td class=tg-left></td><td class=tg-left>N/A</td></tr>\n",
       "<tr><td class=tg-left>[14  0]</td><td  class=tg-right>0.0379731339998</td><td class=tg-left>+ve</td><td class=tg-left></td><td class=tg-left>N/A</td></tr>\n",
       "<tr><td class=tg-left>[15  0]</td><td  class=tg-right>0.0369601349172</td><td class=tg-left>+ve</td><td class=tg-left></td><td class=tg-left>N/A</td></tr>\n",
       "<tr><td class=tg-left>[16  0]</td><td  class=tg-right>0.0366482990404</td><td class=tg-left>+ve</td><td class=tg-left></td><td class=tg-left>N/A</td></tr>\n",
       "<tr><td class=tg-left>[17  0]</td><td  class=tg-right>0.0379060792353</td><td class=tg-left>+ve</td><td class=tg-left></td><td class=tg-left>N/A</td></tr>\n",
       "<tr><td class=tg-left>[18  0]</td><td  class=tg-right>0.0405391833887</td><td class=tg-left>+ve</td><td class=tg-left></td><td class=tg-left>N/A</td></tr>\n",
       "<tr><td class=tg-left>[19  0]</td><td  class=tg-right>0.0421346261298</td><td class=tg-left>+ve</td><td class=tg-left></td><td class=tg-left>N/A</td></tr>\n",
       "<tr><td class=tg-left>[20  0]</td><td  class=tg-right>0.0434408429205</td><td class=tg-left>+ve</td><td class=tg-left></td><td class=tg-left>N/A</td></tr>\n",
       "<tr><td class=tg-left>[21  0]</td><td  class=tg-right>0.0442045083701</td><td class=tg-left>+ve</td><td class=tg-left></td><td class=tg-left>N/A</td></tr>\n",
       "<tr><td class=tg-left>[22  0]</td><td  class=tg-right>0.0431215495974</td><td class=tg-left>+ve</td><td class=tg-left></td><td class=tg-left>N/A</td></tr>\n",
       "<tr><td class=tg-left>[23  0]</td><td  class=tg-right>0.0429632024339</td><td class=tg-left>+ve</td><td class=tg-left></td><td class=tg-left>N/A</td></tr>\n",
       "<tr><td class=tg-left>[24  0]</td><td  class=tg-right>0.042448561624</td><td class=tg-left>+ve</td><td class=tg-left></td><td class=tg-left>N/A</td></tr>\n",
       "<tr><td class=tg-left>[25  0]</td><td  class=tg-right>0.0423139162219</td><td class=tg-left>+ve</td><td class=tg-left></td><td class=tg-left>N/A</td></tr>\n",
       "<tr><td class=tg-left>[26  0]</td><td  class=tg-right>0.0421670039487</td><td class=tg-left>+ve</td><td class=tg-left></td><td class=tg-left>N/A</td></tr>\n",
       "<tr><td class=tg-left>[27  0]</td><td  class=tg-right>0.0430723921424</td><td class=tg-left>+ve</td><td class=tg-left></td><td class=tg-left>N/A</td></tr>\n",
       "<tr><td class=tg-left>[28  0]</td><td  class=tg-right>0.0436195460668</td><td class=tg-left>+ve</td><td class=tg-left></td><td class=tg-left>N/A</td></tr>\n",
       "<tr><td class=tg-left>[29  0]</td><td  class=tg-right>0.0441590230235</td><td class=tg-left>+ve</td><td class=tg-left></td><td class=tg-left>N/A</td></tr>\n",
       "<tr><td class=tg-left>[30  0]</td><td  class=tg-right>0.0446314576145</td><td class=tg-left>+ve</td><td class=tg-left></td><td class=tg-left>N/A</td></tr>\n",
       "<tr><td class=tg-left>[31  0]</td><td  class=tg-right>0.0446654331491</td><td class=tg-left>+ve</td><td class=tg-left></td><td class=tg-left>N/A</td></tr>\n",
       "<tr><td class=tg-left>[32  0]</td><td  class=tg-right>0.0447655105169</td><td class=tg-left>+ve</td><td class=tg-left></td><td class=tg-left>N/A</td></tr>\n",
       "<tr><td class=tg-left>[33  0]</td><td  class=tg-right>0.0445758220529</td><td class=tg-left>+ve</td><td class=tg-left></td><td class=tg-left>N/A</td></tr>\n",
       "<tr><td class=tg-left>[34  0]</td><td  class=tg-right>0.044116364869</td><td class=tg-left>+ve</td><td class=tg-left></td><td class=tg-left>N/A</td></tr>\n",
       "<tr><td class=tg-left>[35  0]</td><td  class=tg-right>0.0436518405861</td><td class=tg-left>+ve</td><td class=tg-left></td><td class=tg-left>N/A</td></tr>\n",
       "<tr><td class=tg-left>[36  0]</td><td  class=tg-right>0.0424920373879</td><td class=tg-left>+ve</td><td class=tg-left></td><td class=tg-left>N/A</td></tr>\n",
       "<tr><td class=tg-left>[37  0]</td><td  class=tg-right>0.0416950318182</td><td class=tg-left>+ve</td><td class=tg-left></td><td class=tg-left>N/A</td></tr>\n",
       "<tr><td class=tg-left>[38  0]</td><td  class=tg-right>0.0409581366297</td><td class=tg-left>+ve</td><td class=tg-left></td><td class=tg-left>N/A</td></tr>\n",
       "<tr><td class=tg-left>[39  0]</td><td  class=tg-right>0.0406294227043</td><td class=tg-left>+ve</td><td class=tg-left></td><td class=tg-left>N/A</td></tr>\n",
       "<tr><td class=tg-left>[40  0]</td><td  class=tg-right>0.0405346701945</td><td class=tg-left>+ve</td><td class=tg-left></td><td class=tg-left>N/A</td></tr>\n",
       "<tr><td class=tg-left>[41  0]</td><td  class=tg-right>0.0408704134051</td><td class=tg-left>+ve</td><td class=tg-left></td><td class=tg-left>N/A</td></tr>\n",
       "<tr><td class=tg-left>[42  0]</td><td  class=tg-right>0.0417195553955</td><td class=tg-left>+ve</td><td class=tg-left></td><td class=tg-left>N/A</td></tr>\n",
       "<tr><td class=tg-left>[43  0]</td><td  class=tg-right>0.0428029981472</td><td class=tg-left>+ve</td><td class=tg-left></td><td class=tg-left>N/A</td></tr>\n",
       "<tr><td class=tg-left>[44  0]</td><td  class=tg-right>0.0433117125513</td><td class=tg-left>+ve</td><td class=tg-left></td><td class=tg-left>N/A</td></tr>\n",
       "<tr><td class=tg-left>[45  0]</td><td  class=tg-right>0.0426743013958</td><td class=tg-left>+ve</td><td class=tg-left></td><td class=tg-left>N/A</td></tr>\n",
       "<tr><td class=tg-left>[46  0]</td><td  class=tg-right>0.0404307595591</td><td class=tg-left>+ve</td><td class=tg-left></td><td class=tg-left>N/A</td></tr>\n",
       "<tr><td class=tg-left>[47  0]</td><td  class=tg-right>0.0381142749468</td><td class=tg-left>+ve</td><td class=tg-left></td><td class=tg-left>N/A</td></tr>\n",
       "<tr><td class=tg-left>[48  0]</td><td  class=tg-right>0.036177117283</td><td class=tg-left>+ve</td><td class=tg-left></td><td class=tg-left>N/A</td></tr>\n",
       "<tr><td class=tg-left>[49  0]</td><td  class=tg-right>0.0348407416974</td><td class=tg-left>+ve</td><td class=tg-left></td><td class=tg-left>N/A</td></tr>\n",
       "<tr><td class=tg-left>[50  0]</td><td  class=tg-right>0.0356161660996</td><td class=tg-left>+ve</td><td class=tg-left></td><td class=tg-left>N/A</td></tr>\n",
       "<tr><td class=tg-left>[51  0]</td><td  class=tg-right>0.037020039058</td><td class=tg-left>+ve</td><td class=tg-left></td><td class=tg-left>N/A</td></tr>\n",
       "<tr><td class=tg-left>[52  0]</td><td  class=tg-right>0.0396780154299</td><td class=tg-left>+ve</td><td class=tg-left></td><td class=tg-left>N/A</td></tr>\n",
       "<tr><td class=tg-left>[53  0]</td><td  class=tg-right>0.0430967140188</td><td class=tg-left>+ve</td><td class=tg-left></td><td class=tg-left>N/A</td></tr>\n",
       "<tr><td class=tg-left>[54  0]</td><td  class=tg-right>0.045349728989</td><td class=tg-left>+ve</td><td class=tg-left></td><td class=tg-left>N/A</td></tr>\n",
       "<tr><td class=tg-left>[55  0]</td><td  class=tg-right>0.0470663102653</td><td class=tg-left>+ve</td><td class=tg-left></td><td class=tg-left>N/A</td></tr>\n",
       "<tr><td class=tg-left>[56  0]</td><td  class=tg-right>0.0469742970555</td><td class=tg-left>+ve</td><td class=tg-left></td><td class=tg-left>N/A</td></tr>\n",
       "<tr><td class=tg-left>[57  0]</td><td  class=tg-right>0.0467546023379</td><td class=tg-left>+ve</td><td class=tg-left></td><td class=tg-left>N/A</td></tr>\n",
       "<tr><td class=tg-left>[58  0]</td><td  class=tg-right>0.0453405153814</td><td class=tg-left>+ve</td><td class=tg-left></td><td class=tg-left>N/A</td></tr>\n",
       "<tr><td class=tg-left>[59  0]</td><td  class=tg-right>0.0451780419588</td><td class=tg-left>+ve</td><td class=tg-left></td><td class=tg-left>N/A</td></tr>\n",
       "<tr><td class=tg-left>[60  0]</td><td  class=tg-right>0.0460111531266</td><td class=tg-left>+ve</td><td class=tg-left></td><td class=tg-left>N/A</td></tr>\n",
       "<tr><td class=tg-left>[61  0]</td><td  class=tg-right>0.0467131472829</td><td class=tg-left>+ve</td><td class=tg-left></td><td class=tg-left>N/A</td></tr>\n",
       "<tr><td class=tg-left>[62  0]</td><td  class=tg-right>0.0482330175759</td><td class=tg-left>+ve</td><td class=tg-left></td><td class=tg-left>N/A</td></tr>\n",
       "<tr><td class=tg-left>[63  0]</td><td  class=tg-right>0.0496239838004</td><td class=tg-left>+ve</td><td class=tg-left></td><td class=tg-left>N/A</td></tr>\n",
       "<tr><td class=tg-left>[64  0]</td><td  class=tg-right>0.0509707467938</td><td class=tg-left>+ve</td><td class=tg-left></td><td class=tg-left>N/A</td></tr>\n",
       "<tr><td class=tg-left>[65  0]</td><td  class=tg-right>0.0519247933216</td><td class=tg-left>+ve</td><td class=tg-left></td><td class=tg-left>N/A</td></tr>\n",
       "<tr><td class=tg-left>[66  0]</td><td  class=tg-right>0.0527307524972</td><td class=tg-left>+ve</td><td class=tg-left></td><td class=tg-left>N/A</td></tr>\n",
       "<tr><td class=tg-left>[67  0]</td><td  class=tg-right>0.0529230368048</td><td class=tg-left>+ve</td><td class=tg-left></td><td class=tg-left>N/A</td></tr>\n",
       "<tr><td class=tg-left>[68  0]</td><td  class=tg-right>0.0535903218469</td><td class=tg-left>+ve</td><td class=tg-left></td><td class=tg-left>N/A</td></tr>\n",
       "<tr><td class=tg-left>[69  0]</td><td  class=tg-right>0.0544838336107</td><td class=tg-left>+ve</td><td class=tg-left></td><td class=tg-left>N/A</td></tr>\n",
       "</table>"
      ],
      "text/plain": [
       "\u001b[1mautoreg.layer_1.X_var_0\u001b[0;0m:\n",
       "Param([[ 0.04342499],\n",
       "       [ 0.04293388],\n",
       "       [ 0.04240169],\n",
       "       [ 0.04138431],\n",
       "       [ 0.03992999],\n",
       "       [ 0.03855062],\n",
       "       [ 0.03813478],\n",
       "       [ 0.03866317],\n",
       "       [ 0.03971056],\n",
       "       [ 0.04105543],\n",
       "       [ 0.04226294],\n",
       "       [ 0.04106447],\n",
       "       [ 0.04143101],\n",
       "       [ 0.04012232],\n",
       "       [ 0.03797313],\n",
       "       [ 0.03696013],\n",
       "       [ 0.0366483 ],\n",
       "       [ 0.03790608],\n",
       "       [ 0.04053918],\n",
       "       [ 0.04213463],\n",
       "       [ 0.04344084],\n",
       "       [ 0.04420451],\n",
       "       [ 0.04312155],\n",
       "       [ 0.0429632 ],\n",
       "       [ 0.04244856],\n",
       "       [ 0.04231392],\n",
       "       [ 0.042167  ],\n",
       "       [ 0.04307239],\n",
       "       [ 0.04361955],\n",
       "       [ 0.04415902],\n",
       "       [ 0.04463146],\n",
       "       [ 0.04466543],\n",
       "       [ 0.04476551],\n",
       "       [ 0.04457582],\n",
       "       [ 0.04411636],\n",
       "       [ 0.04365184],\n",
       "       [ 0.04249204],\n",
       "       [ 0.04169503],\n",
       "       [ 0.04095814],\n",
       "       [ 0.04062942],\n",
       "       [ 0.04053467],\n",
       "       [ 0.04087041],\n",
       "       [ 0.04171956],\n",
       "       [ 0.042803  ],\n",
       "       [ 0.04331171],\n",
       "       [ 0.0426743 ],\n",
       "       [ 0.04043076],\n",
       "       [ 0.03811427],\n",
       "       [ 0.03617712],\n",
       "       [ 0.03484074],\n",
       "       [ 0.03561617],\n",
       "       [ 0.03702004],\n",
       "       [ 0.03967802],\n",
       "       [ 0.04309671],\n",
       "       [ 0.04534973],\n",
       "       [ 0.04706631],\n",
       "       [ 0.0469743 ],\n",
       "       [ 0.0467546 ],\n",
       "       [ 0.04534052],\n",
       "       [ 0.04517804],\n",
       "       [ 0.04601115],\n",
       "       [ 0.04671315],\n",
       "       [ 0.04823302],\n",
       "       [ 0.04962398],\n",
       "       [ 0.05097075],\n",
       "       [ 0.05192479],\n",
       "       [ 0.05273075],\n",
       "       [ 0.05292304],\n",
       "       [ 0.05359032],\n",
       "       [ 0.05448383]])"
      ]
     },
     "execution_count": 148,
     "metadata": {},
     "output_type": "execute_result"
    }
   ],
   "source": [
    "m.layer_1.X_var_0"
   ]
  },
  {
   "cell_type": "code",
   "execution_count": null,
   "metadata": {
    "collapsed": false
   },
   "outputs": [],
   "source": [
    "print m.layer_0.Y.var()\n",
    "\n",
    "print m"
   ]
  },
  {
   "cell_type": "code",
   "execution_count": 31,
   "metadata": {
    "collapsed": true
   },
   "outputs": [],
   "source": [
    "#m.save('walk_run_cesar_2layers.h5')\n",
    "m.save('walk_run_cesar_2layers_200ind_2.h5')"
   ]
  },
  {
   "cell_type": "code",
   "execution_count": null,
   "metadata": {
    "collapsed": true
   },
   "outputs": [],
   "source": [
    "# for i in range(m.nLayers):\n",
    "#     m.layers[i].likelihood.constrain_positive(warning=False)\n",
    "m.optimize('bfgs',messages=1,max_iters=100000)\n",
    "print m"
   ]
  },
  {
   "cell_type": "code",
   "execution_count": null,
   "metadata": {
    "collapsed": false
   },
   "outputs": [],
   "source": []
  },
  {
   "cell_type": "code",
   "execution_count": 122,
   "metadata": {
    "collapsed": false
   },
   "outputs": [],
   "source": [
    "#b = data_in_train.copy()\n",
    "#b[:] = data_in_train.mean()\n",
    "#pd = m.freerun(U=b, m_match=False)\n",
    "\n",
    "# Test on training data\n",
    "ts_inp = data_in_train_list[0].copy()   # data_in_test_list[0]\n",
    "ts_out = data_out_train_list[0].copy()  # data_out_test_list[0]\n",
    "\n",
    "pd = m.freerun(U=ts_inp*0.1, m_match=False)\n",
    "# pd = m.freerun(init_Xs=[None,m.layer_1.init_Xs_0.copy()],U=ts_inp*0.1, m_match=False)\n",
    "\n",
    "#pd = pd.mean.values*data_out_std+data_out_mean\n",
    "#mean_pred = m.layer_0.Y.mean(0)*data_out_std+data_out_mean"
   ]
  },
  {
   "cell_type": "code",
   "execution_count": 64,
   "metadata": {
    "collapsed": false
   },
   "outputs": [
    {
     "data": {
      "text/plain": [
       "(90, 59)"
      ]
     },
     "execution_count": 64,
     "metadata": {},
     "output_type": "execute_result"
    },
    {
     "data": {
      "image/png": "[encoded data removed]",
      "text/plain": [
       "<matplotlib.figure.Figure at 0x7f475c51dcd0>"
      ]
     },
     "metadata": {},
     "output_type": "display_data"
    }
   ],
   "source": [
    "plot(data_out_train_list[0][win_out:,1])\n",
    "plot(pd[:,1])"
   ]
  },
  {
   "cell_type": "code",
   "execution_count": 23,
   "metadata": {
    "collapsed": false
   },
   "outputs": [
    {
     "data": {
      "text/plain": [
       "((21, 59), (90, 59))"
      ]
     },
     "execution_count": 23,
     "metadata": {},
     "output_type": "execute_result"
    }
   ],
   "source": [
    "pd.shape, data_out_train_list[0].shape"
   ]
  },
  {
   "cell_type": "code",
   "execution_count": 124,
   "metadata": {
    "collapsed": true
   },
   "outputs": [
    {
     "data": {
      "text/plain": [
       "2"
      ]
     },
     "execution_count": 124,
     "metadata": {},
     "output_type": "execute_result"
    }
   ],
   "source": [
    "len(data_in_test_list)"
   ]
  },
  {
   "cell_type": "code",
   "execution_count": 152,
   "metadata": {
    "collapsed": false
   },
   "outputs": [],
   "source": [
    "ts_inp = data_in_test_list[0]\n",
    "ts_out = data_out_test_list[0]\n",
    "\n",
    "pd = m.freerun(U=ts_inp*0.1, m_match=False)\n",
    "\n",
    "#pd = pd*data_out_std+data_out_mean"
   ]
  },
  {
   "cell_type": "code",
   "execution_count": 153,
   "metadata": {
    "collapsed": false
   },
   "outputs": [
    {
     "data": {
      "text/plain": [
       "[<matplotlib.lines.Line2D at 0x7febc5b97ad0>]"
      ]
     },
     "execution_count": 153,
     "metadata": {},
     "output_type": "execute_result"
    },
    {
     "data": {
      "image/png": "[encoded data removed]",
      "text/plain": [
       "<matplotlib.figure.Figure at 0x7febc5b97a90>"
      ]
     },
     "metadata": {},
     "output_type": "display_data"
    }
   ],
   "source": [
    "plot(data_out_test_list[0][20:,38])\n",
    "plot(pd[:,38])"
   ]
  },
  {
   "cell_type": "code",
   "execution_count": 113,
   "metadata": {
    "collapsed": false
   },
   "outputs": [
    {
     "data": {
      "text/plain": [
       "(107, 1)"
      ]
     },
     "execution_count": 113,
     "metadata": {},
     "output_type": "execute_result"
    }
   ],
   "source": [
    "data_in_test_list[0].shape"
   ]
  },
  {
   "cell_type": "code",
   "execution_count": 65,
   "metadata": {
    "collapsed": false
   },
   "outputs": [
    {
     "data": {
      "text/plain": [
       "(87, 59)"
      ]
     },
     "execution_count": 65,
     "metadata": {},
     "output_type": "execute_result"
    }
   ],
   "source": [
    "mean_pred"
   ]
  },
  {
   "cell_type": "code",
   "execution_count": 38,
   "metadata": {
    "collapsed": false
   },
   "outputs": [
    {
     "name": "stdout",
     "output_type": "stream",
     "text": [
      "[-0.26375277 -0.18219682  0.18444068 -0.00566178 -0.21970811 -0.26193169\n",
      "  0.07698701 -0.08504683 -0.13497963  0.23134062 -0.05228815 -0.67132009\n",
      " -0.19705366  0.27907558 -0.06351447  0.01825189  0.11549222 -0.1187323\n",
      "  0.07900929 -0.06279296  0.50290286  0.05097909 -0.24627518  0.29240015\n",
      "  0.04899571 -0.06212851  0.24517031  0.16481581 -1.69557841 -0.37686363\n",
      "  0.26988015  0.23097896 -0.53385579  0.24638912  0.69451732 -0.15710356\n",
      "  0.4385375   0.02132559 -0.19365991  0.07228145 -0.0467933  -0.21265332\n",
      " -1.6062598  -0.62611447  1.00593693 -1.60630334 -0.62036237 -0.15710356\n",
      "  0.4385375   0.16494164  0.07410948 -0.14449016  0.00479086  0.07936281\n",
      "  0.12459751  0.47680249  1.00593693  0.12552693 -0.41373765]\n",
      "[ -1.51750788e+00  -2.04806545e+00  -1.34638185e+00  -1.13331947e+01\n",
      "  -1.70720283e+00  -2.22897807e+01   4.08478363e+01  -5.00243969e+00\n",
      "  -6.62498498e+00  -3.46776261e+00  -1.56301115e+01   1.38683165e+00\n",
      "   2.53076578e+01   5.03082133e+01  -5.42698781e+00  -6.13339633e+00\n",
      "   3.96088468e+00   1.12828432e+01   5.80073454e-01   8.68086352e-01\n",
      "   4.59509903e-01   9.83314131e-01   1.36438925e+00  -5.78056847e+00\n",
      "   4.58553805e-01   7.67418281e-01  -1.66090651e+01  -3.11721181e+00\n",
      "  -3.24007915e+00   1.65765214e+01  -3.84420017e+00   1.97281814e+00\n",
      "   7.96695984e+00  -1.85226166e+00   7.48663654e-01  -2.81851028e-15\n",
      "   6.03630958e-15  -3.66176528e+01  -3.21346715e+00   8.67101423e+01\n",
      "   4.96813717e+01   1.01637162e+01  -3.23506219e+01   1.17137919e+01\n",
      "   7.12502000e+00  -5.58707293e+00   4.17082959e+01  -2.81851028e-15\n",
      "   6.03630958e-15  -3.24513209e+01  -8.67555301e+00  -8.51609848e+01\n",
      "   4.93637314e+01  -4.04942936e-02  -1.85799721e+01   4.37196641e+01\n",
      "   7.12502000e+00   7.71257062e+00  -5.72496294e+00]\n",
      "[-0.07024152 -2.02329953 -1.52434043 -0.94733336 -1.02258142  1.69359382\n",
      " -0.76045248 -0.19303767  1.77247451  0.74564928  1.06724695  1.68305768\n",
      "  1.20861445 -0.84187071 -1.3089003   0.48380339  0.23167556 -0.02053836\n",
      "  0.73848173  0.832798    0.51939128  0.80974487  0.66607366  0.24546614\n",
      "  0.81689262 -0.61145561  0.59339385 -0.28848499 -0.41551287  0.39627396\n",
      " -0.21092167 -0.25657655  0.29752554 -0.35065149 -0.23821377 -0.17775297\n",
      "  1.2180701   0.07766918  0.80367461 -0.34574416 -0.60888424 -0.5578989\n",
      "  0.47532814  1.1843106   1.          0.47547488  1.18432918 -0.17775297\n",
      "  1.2180701   1.07529709 -0.03599173  0.09548597 -0.4956827  -0.02115673\n",
      "  0.20737262  0.074697    1.          0.2076543  -0.46017791]\n"
     ]
    },
    {
     "data": {
      "text/plain": [
       "(59,)"
      ]
     },
     "execution_count": 38,
     "metadata": {},
     "output_type": "execute_result"
    }
   ],
   "source": [
    "print pd[0,:]\n",
    "print pd[0,:]*data_out_std+data_out_mean\n",
    "print ts_out[0,:]\n",
    "mean_pred.shape"
   ]
  },
  {
   "cell_type": "code",
   "execution_count": null,
   "metadata": {
    "collapsed": false
   },
   "outputs": [],
   "source": [
    "for i in range(pd.shape[0]):\n",
    "    pd[i,:] = pd[i,:]*data_out_std+data_out_mean"
   ]
  },
  {
   "cell_type": "code",
   "execution_count": 39,
   "metadata": {
    "collapsed": false
   },
   "outputs": [
    {
     "name": "stdout",
     "output_type": "stream",
     "text": [
      "[-1.69557841 -1.69558306 -1.69523324 -1.69364184 -1.68627577 -1.66418654\n",
      " -1.62995566 -1.68368784 -1.71585699 -1.7663893  -1.7733558  -1.69202152\n",
      " -1.69553019 -1.69559144 -1.69594445 -1.69302896 -1.68888338]\n",
      "-2.06725923373\n"
     ]
    }
   ],
   "source": [
    "#for i in range(1):\n",
    "#    plt.figure()\n",
    "#    plt.plot(ts_out[:,i])\n",
    "#    plt.figure()\n",
    "#    plt.plot(pd[:,i])\n",
    "\n",
    "print pd[0:50:3,28]\n",
    "print mean_pred[28]"
   ]
  },
  {
   "cell_type": "code",
   "execution_count": 40,
   "metadata": {
    "collapsed": false
   },
   "outputs": [
    {
     "data": {
      "image/png": "[encoded data removed]",
      "text/plain": [
       "<matplotlib.figure.Figure at 0x7f9ed42e5810>"
      ]
     },
     "metadata": {},
     "output_type": "display_data"
    }
   ],
   "source": [
    "_=plot(pd[:,0])\n",
    "_=plot(pd[:,1])\n",
    "_=plot(pd[:,4])\n",
    "#_=plot(data_out_train[win_out:100,0],'r')\n",
    "#_=plot(data_out_train[win_out:100,1],'y')"
   ]
  },
  {
   "cell_type": "code",
   "execution_count": 181,
   "metadata": {
    "collapsed": false
   },
   "outputs": [
    {
     "data": {
      "image/png": "[encoded data removed]",
      "text/plain": [
       "<matplotlib.figure.Figure at 0x7f82f297c690>"
      ]
     },
     "metadata": {},
     "output_type": "display_data"
    }
   ],
   "source": [
    "!rm imgs/*.png\n",
    "gen_frames(pds[0][win_out:],data_out_mean, data_out_std, data['skel'],'./imgs')"
   ]
  },
  {
   "cell_type": "code",
   "execution_count": 182,
   "metadata": {
    "collapsed": false
   },
   "outputs": [
    {
     "name": "stdout",
     "output_type": "stream",
     "text": [
      "\u001b[0;39mavconv version 9.18-6:9.18-0ubuntu0.14.04.1, Copyright (c) 2000-2014 the Libav developers\n",
      "\u001b[0m\u001b[0;39m  built on Mar 16 2015 13:19:10 with gcc 4.8 (Ubuntu 4.8.2-19ubuntu1)\n",
      "\u001b[0m\u001b[0;39mInput #0, image2, from './imgs/%05d.png':\n",
      "\u001b[0m\u001b[0;39m  Duration: \u001b[0m\u001b[0;39m00:00:00.04\u001b[0m\u001b[0;39m, start: \u001b[0m\u001b[0;39m0.000000\u001b[0m\u001b[0;39m, bitrate: \u001b[0m\u001b[0;39mN/A\u001b[0m\u001b[0;39m\n",
      "\u001b[0m\u001b[0;39m    Stream #0.0\u001b[0m\u001b[0;39m: Video: png, bgra, 576x720\u001b[0m\u001b[0;39m, 25 tbn\u001b[0m\u001b[0;39m\n",
      "\u001b[0m\u001b[0;39m[libx264 @ 0xe2c280] using cpu capabilities: MMX2 SSE2Fast SSSE3 SSE4.2 AVX\n",
      "\u001b[0m\u001b[0;39m[libx264 @ 0xe2c280] profile High, level 2.2\n",
      "\u001b[0m\u001b[0;39m[libx264 @ 0xe2c280] 264 - core 142 r2389 956c8d8 - H.264/MPEG-4 AVC codec - Copyleft 2003-2014 - http://www.videolan.org/x264.html - options: cabac=1 ref=3 deblock=1:0:0 analyse=0x3:0x113 me=hex subme=7 psy=1 psy_rd=1.00:0.00 mixed_ref=1 me_range=16 chroma_me=1 trellis=1 8x8dct=1 cqm=0 deadzone=21,11 fast_pskip=1 chroma_qp_offset=-2 threads=12 lookahead_threads=2 sliced_threads=0 nr=0 decimate=1 interlaced=0 bluray_compat=0 constrained_intra=0 bframes=3 b_pyramid=2 b_adapt=1 b_bias=0 direct=1 weightb=1 open_gop=0 weightp=2 keyint=250 keyint_min=10 scenecut=40 intra_refresh=0 rc_lookahead=40 rc=crf mbtree=1 crf=23.0 qcomp=0.60 qpmin=0 qpmax=69 qpstep=4 ip_ratio=1.25 aq=1:1.00\n",
      "\u001b[0m\u001b[0;39mOutput #0, mp4, to 'pred_walk_run_cesar5.mp4':\n",
      "\u001b[0m\u001b[0;39m  Metadata:\n",
      "\u001b[0m\u001b[0;39m    encoder         : Lavf54.20.4\n",
      "\u001b[0m\u001b[0;39m    Stream #0.0\u001b[0m\u001b[0;39m: Video: libx264, yuv420p, 576x720, q=-1--1\u001b[0m\u001b[0;39m, 10 tbn\u001b[0m\u001b[0;39m, 10 tbc\u001b[0m\u001b[0;39m\n",
      "\u001b[0m\u001b[0;39mStream mapping:\n",
      "\u001b[0m\u001b[0;39m  Stream #0:0 -> #0:0\u001b[0m\u001b[0;39m (png -> libx264)\u001b[0m\u001b[0;39m\n",
      "\u001b[0m\u001b[0;39mPress ctrl-c to stop encoding\n",
      "\u001b[0m\u001b[0;39m\n",
      "\u001b[0m\u001b[0;39mvideo:0kB audio:0kB global headers:0kB muxing overhead 31981.578947%\n",
      "\u001b[0m\u001b[0;39m[libx264 @ 0xe2c280] frame I:1     Avg QP:17.47  size: 10716\n",
      "\u001b[0m\u001b[0;39m[libx264 @ 0xe2c280] mb I  I16..4: 29.2% 53.5% 17.3%\n",
      "\u001b[0m\u001b[0;39m[libx264 @ 0xe2c280] 8x8 transform intra:53.5%\n",
      "\u001b[0m\u001b[0;39m[libx264 @ 0xe2c280] coded y,uvDC,uvAC intra: 22.7% 3.0% 2.7%\n",
      "\u001b[0m\u001b[0;39m[libx264 @ 0xe2c280] i16 v,h,dc,p: 88%  3% 10%  0%\n",
      "\u001b[0m\u001b[0;39m[libx264 @ 0xe2c280] i8 v,h,dc,ddl,ddr,vr,hd,vl,hu: 43% 23% 26%  0%  3%  0%  2%  0%  2%\n",
      "\u001b[0m\u001b[0;39m[libx264 @ 0xe2c280] i4 v,h,dc,ddl,ddr,vr,hd,vl,hu: 49% 21% 10%  1%  6%  2%  6%  2%  3%\n",
      "\u001b[0m\u001b[0;39m[libx264 @ 0xe2c280] i8c dc,h,v,p: 98%  0%  2%  0%\n",
      "\u001b[0m\u001b[0;39m[libx264 @ 0xe2c280] kb/s:857.28\n",
      "\u001b[0m"
     ]
    }
   ],
   "source": [
    "! avconv -y -r 10 -qscale 2 -i ./imgs/%05d.png pred_walk_run_cesar5.mp4"
   ]
  },
  {
   "cell_type": "code",
   "execution_count": 183,
   "metadata": {
    "collapsed": false
   },
   "outputs": [
    {
     "data": {
      "text/html": [
       "\n",
       "<video width=\"480\" height=\"480\" controls>\n",
       "  <source src=\"pred_walk_run_cesar5.mp4\" type=\"video/mp4\">\n",
       "</video>\n"
      ],
      "text/plain": [
       "<IPython.core.display.HTML object>"
      ]
     },
     "execution_count": 183,
     "metadata": {},
     "output_type": "execute_result"
    }
   ],
   "source": [
    "HTML(\"\"\"\n",
    "<video width=\"480\" height=\"480\" controls>\n",
    "  <source src=\"pred_walk_run_cesar5.mp4\" type=\"video/mp4\">\n",
    "</video>\n",
    "\"\"\")"
   ]
  },
  {
   "cell_type": "code",
   "execution_count": null,
   "metadata": {
    "collapsed": true
   },
   "outputs": [],
   "source": [
    "m.layer_1.X.mean.values"
   ]
  },
  {
   "cell_type": "code",
   "execution_count": null,
   "metadata": {
    "collapsed": true
   },
   "outputs": [],
   "source": [
    "m.layer_1.Us_flat[0].variance"
   ]
  },
  {
   "cell_type": "code",
   "execution_count": null,
   "metadata": {
    "collapsed": false
   },
   "outputs": [],
   "source": [
    "m.layer_1.kern.lengthscale"
   ]
  },
  {
   "cell_type": "code",
   "execution_count": null,
   "metadata": {
    "collapsed": false
   },
   "outputs": [],
   "source": [
    "m.layer_0.kern.lengthscale"
   ]
  },
  {
   "cell_type": "code",
   "execution_count": null,
   "metadata": {
    "collapsed": false
   },
   "outputs": [],
   "source": [
    "m.layer_1.X.mean.std(0)"
   ]
  },
  {
   "cell_type": "code",
   "execution_count": null,
   "metadata": {
    "collapsed": false
   },
   "outputs": [],
   "source": [
    "plot(data_in_train_list[0])\n",
    "plot(data_in_train_list[6])"
   ]
  },
  {
   "cell_type": "code",
   "execution_count": null,
   "metadata": {
    "collapsed": false
   },
   "outputs": [],
   "source": [
    "pd = m.freerun(U=np.vstack([data_in_train_list[0],data_in_train_list[5],data_in_train_list[6],data_in_train_list[7]]),m_match=False)"
   ]
  },
  {
   "cell_type": "code",
   "execution_count": null,
   "metadata": {
    "collapsed": true
   },
   "outputs": [],
   "source": [
    "#=============================\n",
    "# Model with NN-constraint\n",
    "#=============================\n",
    "Q = 500\n",
    "win_in = 20\n",
    "win_out = 20\n",
    "\n",
    "use_controls = True\n",
    "back_cstr = True\n",
    "\n",
    "m = autoreg.DeepAutoreg([0, win_out], data_out_train_list, U=[d*0.1 for d in data_in_train_list], U_win=win_in, X_variance=0.05,\n",
    "                    num_inducing=Q, back_cstr=back_cstr, MLP_dims=[500,200], nDims=[data_out_train.shape[1],1],\n",
    "                     kernels=[GPy.kern.MLP(win_out,bias_variance=10.),\n",
    "                     GPy.kern.MLP(win_out+win_in,bias_variance=10.)])\n",
    "#                      kernels=[GPy.kern.RBF(win_out,ARD=True,inv_l=True, useGPU=True),\n",
    "#                      GPy.kern.RBF(win_out+win_in,ARD=True,inv_l=True, useGPU=True)])"
   ]
  }
 ],
 "metadata": {
  "kernelspec": {
   "display_name": "Python 2",
   "language": "python",
   "name": "python2"
  },
  "language_info": {
   "codemirror_mode": {
    "name": "ipython",
    "version": 2
   },
   "file_extension": ".py",
   "mimetype": "text/x-python",
   "name": "python",
   "nbconvert_exporter": "python",
   "pygments_lexer": "ipython2",
   "version": "2.7.10"
  }
 },
 "nbformat": 4,
 "nbformat_minor": 0
}
